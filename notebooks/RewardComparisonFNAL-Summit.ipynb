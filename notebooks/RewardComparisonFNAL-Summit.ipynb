{
 "cells": [
  {
   "cell_type": "code",
   "execution_count": 5,
   "metadata": {},
   "outputs": [],
   "source": [
    "import matplotlib.pyplot as plt\n",
    "%matplotlib inline\n",
    "\n",
    "plt.rcParams['axes.titlesize'] = 18\n",
    "plt.rcParams['axes.titleweight'] = 'bold'\n",
    "plt.rcParams['axes.labelsize'] = 18\n",
    "plt.rcParams['axes.labelweight'] = 'regular'\n",
    "plt.rcParams['xtick.labelsize'] = 14\n",
    "plt.rcParams['ytick.labelsize'] = 14\n",
    "\n",
    "plt.rcParams['font.family'] = [u'serif']\n",
    "plt.rcParams['font.size'] = 14\n",
    "\n",
    "## READ data \n",
    "import pandas as pd\n",
    "import numpy as np\n",
    "import math, sys\n",
    "\n",
    "def read_data(filename, rank):\n",
    "    frame = pd.read_csv(filename, sep=' ',header=None,\n",
    "                        names=['time', 'current_state', 'action', 'reward', 'next_state', 'total_reward', 'done',\n",
    "                               'episode', 'step', 'policy_type', 'epsilon'])\n",
    "    del frame['current_state']\n",
    "    del frame['next_state']\n",
    "    frame['time'] = pd.to_datetime(frame['time'], unit='ns')\n",
    "    frame = frame[frame.done == True]\n",
    "    frame = frame.reset_index()\n",
    "    frame['rank'] = int(rank)\n",
    "    return frame"
   ]
  },
  {
   "cell_type": "code",
   "execution_count": 6,
   "metadata": {},
   "outputs": [],
   "source": [
    "import os\n",
    "def save_reward_plot(results_dir):\n",
    "    df_ranks = []\n",
    "    rank=0\n",
    "    # Candle directory stucture\n",
    "    results_dir = results_dir\n",
    "    for filename in os.listdir(results_dir):\n",
    "        if filename.endswith(\".log\"):\n",
    "            rank+=1\n",
    "            #print('rank {}: filename:{}'.format(rank,filename))\n",
    "            df = read_data(results_dir + filename,rank)\n",
    "            df_ranks.append(df)\n",
    "            \n",
    "    df_merged = pd.concat(df_ranks)\n",
    "    df_merged = df_merged.dropna()\n",
    "    time_min = df_merged.time.min()\n",
    "    time_max = df_merged.time.max()\n",
    "    print('time_min',time_min)\n",
    "    print('time_diff',time_max-time_min)\n",
    "    \n",
    "    df_merged['rel_time'] = [idx - time_min for idx in df_merged.time]\n",
    "    #df_merged['rel_time'] = df_merged['rel_time'].total_seconds()\n",
    "    #df_merged['rel_time'] = df_merged.rel_time.total_seconds()\n",
    "    #df_merged.set_index('rel_time')\n",
    "    #df_merged = df_merged.reset_index()\n",
    "    df_merged.sort_values(by=['rel_time'], inplace=True)\n",
    "    return df_merged"
   ]
  },
  {
   "cell_type": "code",
   "execution_count": 7,
   "metadata": {},
   "outputs": [],
   "source": [
    "import plotille\n",
    "fig = plotille.Figure()\n",
    "fig.width = 60\n",
    "fig.height = 30\n",
    "fig.color_mode = 'byte'"
   ]
  },
  {
   "cell_type": "code",
   "execution_count": 8,
   "metadata": {
    "scrolled": false
   },
   "outputs": [
    {
     "name": "stdout",
     "output_type": "stream",
     "text": [
      "Node path:/projects/users/vinayr/ExaLearn/ExaRL/booster_results/results_dir/EXP000/RUN000/\n"
     ]
    },
    {
     "ename": "FileNotFoundError",
     "evalue": "[Errno 2] No such file or directory: '/projects/users/vinayr/ExaLearn/ExaRL/booster_results/results_dir/EXP000/RUN000/'",
     "output_type": "error",
     "traceback": [
      "\u001b[0;31m---------------------------------------------------------------------------\u001b[0m",
      "\u001b[0;31mFileNotFoundError\u001b[0m                         Traceback (most recent call last)",
      "\u001b[0;32m<ipython-input-8-55260602f38f>\u001b[0m in \u001b[0;36m<module>\u001b[0;34m\u001b[0m\n\u001b[1;32m     12\u001b[0m     \u001b[0;31m# current_dir =base_dir+node_dir\u001b[0m\u001b[0;34m\u001b[0m\u001b[0;34m\u001b[0m\u001b[0;34m\u001b[0m\u001b[0m\n\u001b[1;32m     13\u001b[0m     \u001b[0mprint\u001b[0m\u001b[0;34m(\u001b[0m\u001b[0;34m'Node path:{}'\u001b[0m\u001b[0;34m.\u001b[0m\u001b[0mformat\u001b[0m\u001b[0;34m(\u001b[0m\u001b[0mcurrent_dir\u001b[0m\u001b[0;34m)\u001b[0m\u001b[0;34m)\u001b[0m\u001b[0;34m\u001b[0m\u001b[0;34m\u001b[0m\u001b[0m\n\u001b[0;32m---> 14\u001b[0;31m     \u001b[0mmerged_df\u001b[0m \u001b[0;34m=\u001b[0m \u001b[0msave_reward_plot\u001b[0m\u001b[0;34m(\u001b[0m\u001b[0mcurrent_dir\u001b[0m\u001b[0;34m)\u001b[0m\u001b[0;34m\u001b[0m\u001b[0;34m\u001b[0m\u001b[0m\n\u001b[0m\u001b[1;32m     15\u001b[0m     \u001b[0mmerged_df\u001b[0m\u001b[0;34m[\u001b[0m\u001b[0;34m'total_reward_roll'\u001b[0m\u001b[0;34m]\u001b[0m \u001b[0;34m=\u001b[0m \u001b[0mmerged_df\u001b[0m\u001b[0;34m[\u001b[0m\u001b[0;34m'total_reward'\u001b[0m\u001b[0;34m]\u001b[0m\u001b[0;34m.\u001b[0m\u001b[0mrolling\u001b[0m\u001b[0;34m(\u001b[0m\u001b[0mrolling_setting\u001b[0m\u001b[0;34m,\u001b[0m \u001b[0mmin_periods\u001b[0m\u001b[0;34m=\u001b[0m\u001b[0;36m1\u001b[0m\u001b[0;34m)\u001b[0m\u001b[0;34m.\u001b[0m\u001b[0mmean\u001b[0m\u001b[0;34m(\u001b[0m\u001b[0;34m)\u001b[0m\u001b[0;34m\u001b[0m\u001b[0;34m\u001b[0m\u001b[0m\n\u001b[1;32m     16\u001b[0m     \u001b[0mprint\u001b[0m\u001b[0;34m(\u001b[0m\u001b[0;34m(\u001b[0m\u001b[0mmerged_df\u001b[0m\u001b[0;34m.\u001b[0m\u001b[0mshape\u001b[0m\u001b[0;34m)\u001b[0m\u001b[0;34m)\u001b[0m\u001b[0;34m\u001b[0m\u001b[0;34m\u001b[0m\u001b[0m\n",
      "\u001b[0;32m<ipython-input-6-158076a34425>\u001b[0m in \u001b[0;36msave_reward_plot\u001b[0;34m(results_dir)\u001b[0m\n\u001b[1;32m      5\u001b[0m     \u001b[0;31m# Candle directory stucture\u001b[0m\u001b[0;34m\u001b[0m\u001b[0;34m\u001b[0m\u001b[0;34m\u001b[0m\u001b[0m\n\u001b[1;32m      6\u001b[0m     \u001b[0mresults_dir\u001b[0m \u001b[0;34m=\u001b[0m \u001b[0mresults_dir\u001b[0m\u001b[0;34m\u001b[0m\u001b[0;34m\u001b[0m\u001b[0m\n\u001b[0;32m----> 7\u001b[0;31m     \u001b[0;32mfor\u001b[0m \u001b[0mfilename\u001b[0m \u001b[0;32min\u001b[0m \u001b[0mos\u001b[0m\u001b[0;34m.\u001b[0m\u001b[0mlistdir\u001b[0m\u001b[0;34m(\u001b[0m\u001b[0mresults_dir\u001b[0m\u001b[0;34m)\u001b[0m\u001b[0;34m:\u001b[0m\u001b[0;34m\u001b[0m\u001b[0;34m\u001b[0m\u001b[0m\n\u001b[0m\u001b[1;32m      8\u001b[0m         \u001b[0;32mif\u001b[0m \u001b[0mfilename\u001b[0m\u001b[0;34m.\u001b[0m\u001b[0mendswith\u001b[0m\u001b[0;34m(\u001b[0m\u001b[0;34m\".log\"\u001b[0m\u001b[0;34m)\u001b[0m\u001b[0;34m:\u001b[0m\u001b[0;34m\u001b[0m\u001b[0;34m\u001b[0m\u001b[0m\n\u001b[1;32m      9\u001b[0m             \u001b[0mrank\u001b[0m\u001b[0;34m+=\u001b[0m\u001b[0;36m1\u001b[0m\u001b[0;34m\u001b[0m\u001b[0;34m\u001b[0m\u001b[0m\n",
      "\u001b[0;31mFileNotFoundError\u001b[0m: [Errno 2] No such file or directory: '/projects/users/vinayr/ExaLearn/ExaRL/booster_results/results_dir/EXP000/RUN000/'"
     ]
    },
    {
     "data": {
      "image/png": "[encoded data removed]",
      "text/plain": [
       "<Figure size 720x576 with 1 Axes>"
      ]
     },
     "metadata": {
      "needs_background": "light"
     },
     "output_type": "display_data"
    }
   ],
   "source": [
    "rolling_setting=25\n",
    "fig,ax = plt.subplots(1, 1,figsize=(10,8))\n",
    "plt.title('ExaBooster E2000 S500')\n",
    "\n",
    "base_dir = '/projects/users/vinayr/ExaLearn/ExaRL/'\n",
    "nodes_dir = ['results_dir']\n",
    "\n",
    "\n",
    "episodes_per_nodes = []\n",
    "for node_dir in nodes_dir:\n",
    "    current_dir =base_dir+node_dir+'/EXP000/RUN000/'\n",
    "    # current_dir =base_dir+node_dir\n",
    "    print('Node path:{}'.format(current_dir))\n",
    "    merged_df = save_reward_plot(current_dir)\n",
    "    merged_df['total_reward_roll'] = merged_df['total_reward'].rolling(rolling_setting, min_periods=1).mean()\n",
    "    print((merged_df.shape))\n",
    "    #merged_df = merged_df.cummax()\n",
    "    fig.plot(merged_df['rel_time'],merged_df['total_reward_roll'], lc=25)\n",
    "    plt.plot(merged_df['rel_time'],merged_df['total_reward_roll'], label='{}'.format(node_dir))\n",
    "    episodes_per_nodes.append(len(merged_df))\n",
    "\n",
    "#print(merged_df.head(5))  \n",
    "plt.xlabel('Relative Time')\n",
    "plt.ylabel('Rolling Total Reward ({})'.format(rolling_setting))\n",
    "#plt.xlim(00,2500)\n",
    "#plt.ylim(-20,0)\n",
    "plt.legend(loc=\"lower right\")\n",
    "plt.show()\n",
    "fig.show()"
   ]
  },
  {
   "cell_type": "code",
   "execution_count": null,
   "metadata": {},
   "outputs": [],
   "source": []
  }
 ],
 "metadata": {
  "interpreter": {
   "hash": "31f2aee4e71d21fbe5cf8b01ff0e069b9275f58929596ceb00d14d90e3e16cd6"
  },
  "kernelspec": {
   "display_name": "Python 3.6.8 64-bit",
   "name": "python3"
  },
  "language_info": {
   "codemirror_mode": {
    "name": "ipython",
    "version": 3
   },
   "file_extension": ".py",
   "mimetype": "text/x-python",
   "name": "python",
   "nbconvert_exporter": "python",
   "pygments_lexer": "ipython3",
   "version": "3.6.8"
  }
 },
 "nbformat": 4,
 "nbformat_minor": 4
}
